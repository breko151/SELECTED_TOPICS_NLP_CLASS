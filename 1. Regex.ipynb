{
 "cells": [
  {
   "cell_type": "markdown",
   "metadata": {
    "id": "H6yCKoTY22L9"
   },
   "source": [
    "# RegEx  \n",
    "Nava del Río José Antonio  \n",
    "Ojeda Contreras Braulio Melquisedec  \n",
    "Suárez Pérez Juan Pablo"
   ]
  },
  {
   "cell_type": "code",
   "execution_count": 1,
   "metadata": {
    "cell_id": "45af4090aec34c06afed170697bf0891",
    "deepnote_cell_type": "code",
    "deepnote_to_be_reexecuted": false,
    "execution_millis": 7,
    "execution_start": 1694655275921,
    "id": "5IQ8kLmj22L_",
    "source_hash": "f63e5d92"
   },
   "outputs": [],
   "source": [
    "import re\n",
    "import numpy as np"
   ]
  },
  {
   "cell_type": "markdown",
   "metadata": {
    "id": "KfNn0sK622MC"
   },
   "source": [
    "## 1) Email\n",
    "\n",
    "**Regex: ^[a-zA-Z0-9._%+-]+@[a-zA-Z0-9.-]+\\.[a-zA-Z\\.]{2,}$**\n",
    "\n",
    "**Nombre del usuario:** [a-zA-Z0-9._-]+:\n",
    "\n",
    "Permite letras mayúsculas y minúsculas, números y algunos caracteres especiales como el punto \".\", guión bajo \"_\" y guión normal \"-\". El + al final del conjunto nos dice que este conjunto de caracteres se puede repetir 1 o más veces\n",
    "\n",
    "**Arroba:** \"@\"\n",
    "\n",
    "Indica que tiene que después del nombre del usuario forzosamente deberá existir un @.\n",
    "\n",
    "**Nombre de dominio:** [a-zA-Z0-9.-]+\n",
    "\n",
    "Similarmente al nombre del usuario, permitimos mayúsculas y minúsculas, números, pero de caracteres especiales solo el punto \".\" y el guión normal \"-\". Con esto garantizamos múltiples combinaciones de dominios.\n",
    "\n",
    "**Punto después del dominio**: \".\"\n",
    "\n",
    "Al igual que el arroba, el punto implica una aparición forzosa después del dominio.\n",
    "\n",
    "**Dominio de nivel superior**: [a-zA-Z\\.]{2,}\n",
    "\n",
    "Indica que cuando menos el dominio de nivel superior (TLD) deberá tener dos letras, lo cual posibilita más TLDs aparte del .com, como bien pueden ser el .net, .io, .org, etc.\"\n",
    "\n",
    "**NOTA**: La razón de permitir mayúsculas es que la sintaxis de la dirección de correo electrónico no distingue entre mayúsculas y minúsculas."
   ]
  },
  {
   "cell_type": "code",
   "execution_count": 2,
   "metadata": {
    "id": "NsMiTWwX22MF"
   },
   "outputs": [],
   "source": [
    "def validate_email(email):\n",
    "    regex = r'^[a-zA-Z0-9._%+-]+@[a-zA-Z0-9.-]+\\.[a-zA-Z\\.]{2,}$'\n",
    "    if re.search(regex, email):\n",
    "        print(\"Tu correo es válido\")\n",
    "    else:\n",
    "        print(\"Tu correo NO es válido\")"
   ]
  },
  {
   "cell_type": "code",
   "execution_count": 3,
   "metadata": {
    "colab": {
     "base_uri": "https://localhost:8080/"
    },
    "id": "mI6XV8gD22MH",
    "outputId": "bf668d24-d500-428c-8427-4d881ed6f0b1"
   },
   "outputs": [
    {
     "name": "stdout",
     "output_type": "stream",
     "text": [
      "Inserte un correo electrónico:\n",
      "ejemplito@gmail.com\n",
      "Su correo es: ejemplito@gmail.com\n",
      "Tu correo es válido\n"
     ]
    }
   ],
   "source": [
    "print(\"Inserte un correo electrónico:\")\n",
    "email = input()\n",
    "print(\"Su correo es: \" + email)\n",
    "validate_email(email)"
   ]
  },
  {
   "cell_type": "markdown",
   "metadata": {
    "id": "W0C1YYHI22MI"
   },
   "source": [
    "## 2) Fecha y hora (dd/mm/yyyy HH:MM)\n",
    "\n",
    "**Regex: ^(?:3[01]|[12][0-9]|0?[1-9])([/])(0?[1-9]|1[0-2])([/])\\d{4}\\s([01]?[0-9]|2[0-3]):[0-5][0-9]$**\n",
    "\n",
    "**Caracteres especiales:** /, :, \\s\n",
    "\n",
    "La diagonal nos sirve para delimitar la fecha, los dos puntos para delimitar la hora y \\s representa el espacio entre fecha y hora.\n",
    "\n",
    "**Día del mes:** 3[01]|[12][0-9]|0?[1-9])\n",
    "\n",
    "Permite tres posibles opciones: la primera acepta los números 30 y 31, la segunda los números del 10 al 29 y la última un dígito del 1 al 9. Esta última con el detalle que puede o no aparecer un cero antes de alguno de estos dígitos.\n",
    "\n",
    "**Número de mes:** 0?[1-9]|1[0-2]\n",
    "\n",
    "Permite dos posibles opciones: aceptar un dígito del 1 al 9, con la posibilidad de que aparezca antes un cero o no, mientras que la otra opción involucra números del 10 al 12.\n",
    "\n",
    "**Año:** \\d{4}\n",
    "\n",
    "La letra \\d involucra el conjunto de dígitos del 1 al 9, y los corchetes nos indican que deben aparecer exactamente 4 de estos dígitos.\n",
    "\n",
    "**Horas:** [01]?[0-9]|2[0-3]\n",
    "\n",
    "Permite dos posibles opciones: aceptar números del 0 al 19 con la posibilidad de escribir las horas como '09' o equivalentemente como '9', y por otro lado acepta números del 20 al 23.\n",
    "\n",
    "**Minutos:** [0-5][0-9]\n",
    "\n",
    "Permite insertar números del 0 al 59, donde similarmente como en el caso de las horas se puede escribir '05' o '5' de forma equivalente."
   ]
  },
  {
   "cell_type": "code",
   "execution_count": 4,
   "metadata": {
    "id": "4y3-XXg222MJ"
   },
   "outputs": [],
   "source": [
    "def validate_datetime(datetime):\n",
    "    regex = r'^(?:3[01]|[12][0-9]|0?[1-9])([/])(0?[1-9]|1[0-2])([/])\\d{4}\\s([01]?[0-9]|2[0-3]):[0-5][0-9]$'\n",
    "    if re.search(regex, datetime):\n",
    "        print(\"Tu fecha y hora es válida\")\n",
    "    else:\n",
    "        print(\"Tu fecha y hora NO es válida\")"
   ]
  },
  {
   "cell_type": "code",
   "execution_count": 5,
   "metadata": {
    "colab": {
     "base_uri": "https://localhost:8080/"
    },
    "id": "OkugibVH22MJ",
    "outputId": "aa365bcf-1ae4-4498-84f6-05ec4a66210e"
   },
   "outputs": [
    {
     "name": "stdout",
     "output_type": "stream",
     "text": [
      "15/01/2007 21:00\n",
      "Su datetime es: 15/01/2007 21:00\n",
      "Tu fecha y hora es válida\n"
     ]
    }
   ],
   "source": [
    "datetime = input()\n",
    "print(\"Su datetime es: \" + datetime)\n",
    "validate_datetime(datetime)"
   ]
  },
  {
   "cell_type": "markdown",
   "metadata": {
    "id": "wyeeRd5l22MK"
   },
   "source": [
    "## 3) URL\n",
    "\n",
    "**Regex: ^(https?|ftp):\\/\\/(?:www\\.)?[a-zA-Z0-9\\.][a-zA-Z0-9-\\.]{0,61}[a-zA-Z0-9\\.]\\.[a-zA-Z0-9\\.\\:]{2,}\\b(?:[-a-zA-Z0-9()@:%_\\+.~#?&\\/=]*)$**\n",
    "\n",
    "**Protocolo de transferencia de hipertexto:** (https?|ftp):\\/\\/\n",
    "Indica que la URL tiene que empezar con https://, http:// y ftp://\n",
    "\n",
    "**World Wide Web:** (?:www\\.)?\n",
    "\n",
    "Posibilita que luego aparezca o no el 'www.', esto ya que no siempre las URLs muestran explícitamente este fragmento.\n",
    "\n",
    "**Dominio:** [a-zA-Z0-9\\.][a-zA-Z0-9-\\.]{0,61}[a-zA-Z0-9\\.]\n",
    "\n",
    "Acepta mínimo 2 y máximo 63 caracteress alfanuméricos además de guiones medios. Aunque cabe mencionar que los guiones medios no pueden aparecer ni al inicio ni al final del dominio.\n",
    "\n",
    "**Dominio de nivel superior**: [a-zA-Z0-9\\.\\:]{2,}\n",
    "\n",
    "Indica que cuando menos el dominio de nivel superior (TLD) deberá tener dos letras, lo cual posibilita más TLDs aparte del .com, como bien pueden ser el .net, .io, .org, etc.\"\n",
    "\n",
    "**Fin de palabra:** \\b\n",
    "\n",
    "Representa el límite de palabra al final de la URL, lo cual asegura que una URL no continúe más allá del TLD.\n",
    "\n",
    "**Caracteres adicionales:** (?:[-a-zA-Z0-9()@:%_\\+.~#?&\\/=]*)\n",
    "\n",
    "Implica todos los caracteres después del TLD.\n"
   ]
  },
  {
   "cell_type": "code",
   "execution_count": 6,
   "metadata": {
    "id": "OqE0Fxf522ML"
   },
   "outputs": [],
   "source": [
    "def validate_url(url):\n",
    "    regex = r'^(https?|ftp):\\/\\/(?:www\\.)?[a-zA-Z0-9\\.][a-zA-Z0-9-\\.]{0,61}[a-zA-Z0-9\\.]\\.[a-zA-Z0-9\\.\\:]{2,}\\b(?:[-a-zA-Z0-9()@:%_\\+.~#?&\\/=]*)$'\n",
    "    if re.search(regex, url):\n",
    "        print(\"Tu URL es válida\")\n",
    "    else:\n",
    "        print(\"Tu URL NO es válida\")"
   ]
  },
  {
   "cell_type": "code",
   "execution_count": 7,
   "metadata": {
    "colab": {
     "base_uri": "https://localhost:8080/"
    },
    "id": "8v9JR36g3iaV",
    "outputId": "83c0203d-ac61-4294-f77a-24ce67a692f6"
   },
   "outputs": [
    {
     "name": "stdout",
     "output_type": "stream",
     "text": [
      "Inserta una URL:\n",
      "https://www.ejemplito.com\n",
      "Su URL es: https://www.ejemplito.com\n",
      "Tu URL es válida\n"
     ]
    }
   ],
   "source": [
    "print(\"Inserta una URL:\")\n",
    "url = input()\n",
    "print(\"Su URL es: \" + url)\n",
    "validate_url(url)"
   ]
  },
  {
   "cell_type": "markdown",
   "metadata": {
    "id": "Bwesgm-W22MM"
   },
   "source": [
    "## 4) CURP\n",
    "\n",
    "**Regex: ^([A-Z]{4})(\\d{2})(0[1-9]|1[0-2])(?:3[01]|[12][0-9]|0?[1-9])([A-Z]{6})([A-Z0-9]{2})$**\n",
    "\n",
    "**Primeros cuatro dígitos alfabéticos:** [A-Z]{4}\n",
    "\n",
    "Acepta los primeros dígitos que son generados a partir de tu nombre y apellidos.\n",
    "\n",
    "**Dígitos abreviados de año de nacimiento:** \\d{2}\n",
    "\n",
    "Acepta los dos dígitos que corresponden al año de tu nacimiento, por ejemplo: 2002 implica 02\n",
    "\n",
    "**Dígitos de mes de nacimiento:** 0[1-9]|1[0-2]\n",
    "\n",
    "Acepta dos opciones: la primera implica los dígitos del 1 al 9 antecedidos por un cero, mientras que la otra opción implica los valores de 10, 11 y 12.\n",
    "\n",
    "**Dígitos de mes de nacimiento:** 3[01]|[12][0-9]|0[1-9]\n",
    "\n",
    "Acepta tres opciones: Permite tres posibles opciones: la primera acepta los números 30 y 31, la segunda los números del 10 al 29 y la última un dígito del 1 al 9. Esta última con el detalle que puede o no aparecer un cero antes de alguno de estos dígitos.\n",
    "\n",
    "**6 dígitos alfabéticos**: ([A-Z]{6})\n",
    "\n",
    "En estos 6 dígitos se comprende 1 para el género, otros dos para la clave de entidad de nacimiento, luego la segunda consonante del primer apellido, la segunda consonante del segundo apellido e igualmente la segunda consonante del primer nombre.\n",
    "\n",
    "**Homoclave**: [A-Z0-9]{2}\n",
    "\n",
    "Comprende dos dígitos alfanuméricos."
   ]
  },
  {
   "cell_type": "code",
   "execution_count": 8,
   "metadata": {
    "id": "M5w6ZJzr22MM"
   },
   "outputs": [],
   "source": [
    "def validate_curp(curp):\n",
    "    regex = r'^([A-Z]{4})(\\d{2})(0[1-9]|1[0-2])(?:3[01]|[12][0-9]|0[1-9])([A-Z]{6})([A-Z0-9]{2})$'\n",
    "    if re.search(regex, curp):\n",
    "        print(\"Tu CURP es válido\")\n",
    "    else:\n",
    "        print(\"Tu CURP NO es válido\")"
   ]
  },
  {
   "cell_type": "code",
   "execution_count": 9,
   "metadata": {
    "cell_id": "5cfbc394c5944d889de7a881b2fd5bf2",
    "colab": {
     "base_uri": "https://localhost:8080/",
     "height": 398
    },
    "deepnote_cell_type": "code",
    "deepnote_to_be_reexecuted": false,
    "execution_millis": 8691,
    "execution_start": 1694651338302,
    "id": "3ki27V3t22MM",
    "outputId": "056579e0-6af8-4367-9817-41048f521d2c",
    "source_hash": null
   },
   "outputs": [
    {
     "name": "stdout",
     "output_type": "stream",
     "text": [
      "Inserta tu CURP:\n",
      "SUPJ010217HDFRRNA5\n",
      "Su CURP es: SUPJ010217HDFRRNA5\n",
      "Tu CURP es válido\n"
     ]
    }
   ],
   "source": [
    "print(\"Inserta tu CURP:\")\n",
    "curp = input()\n",
    "print(\"Su CURP es: \" + curp)\n",
    "validate_curp(curp)"
   ]
  },
  {
   "cell_type": "markdown",
   "metadata": {
    "id": "YlNjaW8a22MN"
   },
   "source": [
    "## 5) RFC\n",
    "\n",
    "**Regex: ^([A-Z]{4})(\\d{2})(0[1-9]|1[0-2])(?:3[01]|[12][0-9]|0?[1-9])([A-Z0-9]{3})$**\n",
    "\n",
    "**Primeros cuatro dígitos alfabéticos:** [A-Z]{4}\n",
    "\n",
    "Acepta los primeros dígitos que son generados a partir de tu nombre y apellidos.\n",
    "\n",
    "**Dígitos abreviados de año de nacimiento:** \\d{2}\n",
    "\n",
    "Acepta los dos dígitos que corresponden al año de tu nacimiento, por ejemplo: 2002 implica 02\n",
    "\n",
    "**Dígitos de mes de nacimiento:** 0[1-9]|1[0-2]\n",
    "\n",
    "Acepta dos opciones: la primera implica los dígitos del 1 al 9 antecedidos por un cero, mientras que la otra opción implica los valores de 10, 11 y 12.\n",
    "\n",
    "**Dígitos de mes de nacimiento:** 3[01]|[12][0-9]|0[1-9]\n",
    "\n",
    "Acepta tres opciones: Permite tres posibles opciones: la primera acepta los números 30 y 31, la segunda los números del 10 al 29 y la última un dígito del 1 al 9. Esta última con el detalle que puede o no aparecer un cero antes de alguno de estos dígitos.\n",
    "\n",
    "**Homoclave**: [A-Z0-9]{3}\n",
    "\n",
    "Comprende tres dígitos alfanuméricos."
   ]
  },
  {
   "cell_type": "code",
   "execution_count": 10,
   "metadata": {
    "id": "erZRKayU22MN"
   },
   "outputs": [],
   "source": [
    "def validate_rfc(rfc):\n",
    "    regex = r'^([A-Z]{4})(\\d{2})(0[1-9]|1[0-2])(?:3[01]|[12][0-9]|0[1-9])([A-Z0-9]{3})$'\n",
    "    if re.search(regex, rfc):\n",
    "        print(\"Tu RFC es válido\")\n",
    "    else:\n",
    "        print(\"Tu RFC NO es válido\")"
   ]
  },
  {
   "cell_type": "code",
   "execution_count": 20,
   "metadata": {
    "colab": {
     "base_uri": "https://localhost:8080/"
    },
    "id": "SP81mMho22MN",
    "outputId": "acfd956f-ebdd-4fad-b5c0-8d7bcd8c4fb1"
   },
   "outputs": [
    {
     "name": "stdout",
     "output_type": "stream",
     "text": [
      "Inserta tu RFC:\n",
      "GOMA930320ABC\n",
      "Su RFC es: GOMA930320ABC\n",
      "Tu RFC es válido\n"
     ]
    }
   ],
   "source": [
    "print(\"Inserta tu RFC:\")\n",
    "rfc = input()\n",
    "print(\"Su RFC es: \" + rfc)\n",
    "validate_rfc(rfc)"
   ]
  },
  {
   "cell_type": "markdown",
   "metadata": {
    "id": "JtV5fVcE22MO"
   },
   "source": [
    "## 6) Boleta\n",
    "\n",
    "**Regex: ^(\\d{10})$**\n",
    "\n",
    "**Dígitos numéricos:** \\d{10}\n",
    "\n",
    "Acepta 10 dígitos numéricos"
   ]
  },
  {
   "cell_type": "code",
   "execution_count": 12,
   "metadata": {
    "cell_id": "f7fd0fe3b31e4cd3bba4f1b3fc886b71",
    "deepnote_cell_type": "code",
    "deepnote_to_be_reexecuted": false,
    "execution_millis": 6,
    "execution_start": 1694655611329,
    "id": "PEvCeLHh22MO",
    "source_hash": "406f51ac"
   },
   "outputs": [],
   "source": [
    "def validate_school_id(school_id):\n",
    "    regex = r'^(\\d{10})$'\n",
    "    if re.search(regex, school_id):\n",
    "        print(\"Tu boleta es válida\")\n",
    "    else:\n",
    "        print(\"Tu boleta NO es válida\")"
   ]
  },
  {
   "cell_type": "code",
   "execution_count": 13,
   "metadata": {
    "id": "ogg58MRh22MP"
   },
   "outputs": [
    {
     "name": "stdout",
     "output_type": "stream",
     "text": [
      "Inserta tu boleta:\n",
      "2025630203\n",
      "Su boleta es: 2025630203\n",
      "Tu boleta es válida\n"
     ]
    }
   ],
   "source": [
    "print(\"Inserta tu boleta:\")\n",
    "boleta = input()\n",
    "print(\"Su boleta es: \" + boleta)\n",
    "validate_school_id(boleta)"
   ]
  },
  {
   "cell_type": "markdown",
   "metadata": {
    "id": "m02qaR5c22MP"
   },
   "source": [
    "## 7) Número telefónico\n",
    "\n",
    "**Regex: ^(\\d{10})$**\n",
    "\n",
    "**Dígitos numéricos:** \\d{10}\n",
    "\n",
    "Acepta 10 dígitos numéricos"
   ]
  },
  {
   "cell_type": "code",
   "execution_count": 14,
   "metadata": {
    "id": "MvrxLrtr22MP"
   },
   "outputs": [],
   "source": [
    "def validate_telephone(tel):\n",
    "    regex = '^(\\d{10, 11})$'\n",
    "    if re.search(regex, tel):\n",
    "        print(\"Tu teléfono es válido\")\n",
    "    else:\n",
    "        print(\"Tu teléfono NO es válido\")"
   ]
  },
  {
   "cell_type": "code",
   "execution_count": 15,
   "metadata": {
    "cell_id": "c3b4f202f8d74634b719965501c0df53",
    "deepnote_cell_type": "code",
    "deepnote_to_be_reexecuted": false,
    "execution_millis": 1030,
    "execution_start": 1694655383168,
    "id": "PBSOumJo22MP",
    "source_hash": "f140d97"
   },
   "outputs": [
    {
     "name": "stdout",
     "output_type": "stream",
     "text": [
      "Inserta tu número de teléfono:\n",
      "5558575254\n",
      "Su teléfono es: 5558575254\n",
      "Tu teléfono NO es válido\n"
     ]
    }
   ],
   "source": [
    "print(\"Inserta tu número de teléfono:\")\n",
    "tel = input()\n",
    "print(\"Su teléfono es: \" + tel)\n",
    "validate_telephone(tel)"
   ]
  },
  {
   "cell_type": "markdown",
   "metadata": {
    "id": "AXxXn0qc4g8p"
   },
   "source": [
    "## 8) Dirección IP\n",
    "**Regex:** ^(25[0-5]|2[0-4][0-9]|[01]?[0-9][0-9]?)\\.(25[0-5]|2[0-4][0-9]|[01]?[0-9][0-9]?)\\.(25[0-5]|2[0-4][0-9]|[01]?[0-9][0-9]?)\\.(25[0-5]|2[0-4][0-9]|[01]?[0-9][0-9]?)$  "
   ]
  },
  {
   "cell_type": "markdown",
   "metadata": {
    "id": "lXc8hR6V88g0"
   },
   "source": [
    "**Patrón de octeto:** (25[0-5]|2[0-4][0-9]|[01]?[0-9][0-9]?): Este es el patrón para cada octeto en la dirección IPv4. Se divide en tres partes:\n",
    "\n",
    "1) **Primer fragmento:** 25[0-5]:\n",
    "\n",
    "Esto coincide con valores de 250 a 255.\n",
    "\n",
    "2) **Segundo fragmento:** 2[0-4][0-9]:\n",
    "\n",
    "Esto coincide con valores de 200 a 249.\n",
    "\n",
    "3) **Tercer fragmento:** [01]?[0-9][0-9]?\n",
    "\n",
    "Esto coincide con valores de 0 a 199, con la 4. posibilidad de uno o dos dígitos (por ejemplo, 09 o 123).\n",
    "\n",
    "**Punto entre octetos:** \\.\n",
    "\n",
    "Esto coincide con el punto (.) que separa cada octeto en la dirección IP."
   ]
  },
  {
   "cell_type": "code",
   "execution_count": 16,
   "metadata": {
    "id": "cHecljbo22MQ"
   },
   "outputs": [],
   "source": [
    "def validate_ip(ip_text):\n",
    "    regex = r'^(25[0-5]|2[0-4][0-9]|[01]?[0-9][0-9]?)\\.(25[0-5]|2[0-4][0-9]|[01]?[0-9][0-9]?)\\.(25[0-5]|2[0-4][0-9]|[01]?[0-9][0-9]?)\\.(25[0-5]|2[0-4][0-9]|[01]?[0-9][0-9]?)$'\n",
    "    if re.search(regex, ip_text):\n",
    "        print(\"Tu ip es válido\")\n",
    "    else:\n",
    "        print(\"Tu ip NO es válido\")"
   ]
  },
  {
   "cell_type": "code",
   "execution_count": 19,
   "metadata": {
    "id": "7XEFpIyi22MQ"
   },
   "outputs": [
    {
     "name": "stdout",
     "output_type": "stream",
     "text": [
      "Inserta tu ip:\n",
      "192.168.1.1\n",
      "Su ip es: 192.168.1.1\n",
      "Tu ip es válido\n"
     ]
    }
   ],
   "source": [
    "print(\"Inserta tu ip:\")\n",
    "ip_text = input()\n",
    "print(\"Su ip es: \" + ip_text)\n",
    "validate_ip(ip_text)"
   ]
  }
 ],
 "metadata": {
  "colab": {
   "provenance": []
  },
  "deepnote": {},
  "deepnote_execution_queue": [],
  "deepnote_notebook_id": "33f9d6c2a8da40208f192a49bd3f5f8a",
  "deepnote_persisted_session": {
   "createdAt": "2023-09-14T00:46:29.591Z"
  },
  "kernelspec": {
   "display_name": "Python 3 (ipykernel)",
   "language": "python",
   "name": "python3"
  },
  "language_info": {
   "codemirror_mode": {
    "name": "ipython",
    "version": 3
   },
   "file_extension": ".py",
   "mimetype": "text/x-python",
   "name": "python",
   "nbconvert_exporter": "python",
   "pygments_lexer": "ipython3",
   "version": "3.9.12"
  }
 },
 "nbformat": 4,
 "nbformat_minor": 1
}
