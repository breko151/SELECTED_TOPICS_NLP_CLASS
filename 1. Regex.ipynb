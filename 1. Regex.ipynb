{
 "cells": [
  {
   "cell_type": "markdown",
   "id": "7cfae8b5",
   "metadata": {},
   "source": [
    "# Expresiones Regulares\n",
    "Suárez Pérez Juan Pablo, 7AM1"
   ]
  },
  {
   "cell_type": "code",
   "execution_count": 1,
   "id": "65770d01",
   "metadata": {},
   "outputs": [],
   "source": [
    "# Importación de bibliotecas.\n",
    "import numpy as np\n",
    "import re"
   ]
  },
  {
   "cell_type": "markdown",
   "id": "abe97756",
   "metadata": {},
   "source": [
    "## Correo Electrónico"
   ]
  },
  {
   "cell_type": "markdown",
   "id": "7368f442",
   "metadata": {},
   "source": [
    "Una dirección de email está compuesta de las siguientes partes:  \n",
    "1. Nombre de usuario: Contiene letras, números y caracteres como \".\", \"_\", \"%\", \"+\" y \"-\".  \n",
    "2. Dominio: La parte posterior a '@', y se divide en el nombre de dominio y la extensión, la extensión sigue después de '.'  "
   ]
  },
  {
   "cell_type": "markdown",
   "id": "68714cfa",
   "metadata": {},
   "source": [
    "### Expresión regular\n",
    "La expresión regular es la siguiente: \n",
    "\n",
    "\"\\b[A-Za-z0-9._%+-]+@[A-Za-z0-9.-]+\\.[A-Z|a-z]{2,7}\\b\"  \n",
    "\n",
    "La cual está compuesta de los siguientes elementos:\n",
    "1. '\\b': límte de palabra.\n",
    "2. '[A-Za-z0-9._%+-]+': Coincide con uno o más caracteres alfabéticos, dígitos o los caracteres especiales ., _, %, +, y - que son comunes en las direcciones de correo electrónico.\n",
    "3. '@' \n",
    "4. '[A-Za-z0-9.-]+': Dominio.\n",
    "5. '[A-Z|a-z]{2,7}': 2 a 7 caracteres."
   ]
  },
  {
   "cell_type": "code",
   "execution_count": 2,
   "id": "a77c2092",
   "metadata": {},
   "outputs": [],
   "source": [
    "def email_validation(text):\n",
    "    regular_expression = r'\\b[A-Za-z0-9._%+-]+@[A-Za-z0-9.-]+\\.[A-Z|a-z]{2,7}\\b'\n",
    "    val = re.search(regular_expression, text)\n",
    "    assert val, \"No es un correo electrónico valido.\"\n",
    "    print(\"Correo electrónico valido.\")"
   ]
  },
  {
   "cell_type": "code",
   "execution_count": 5,
   "id": "744ae712",
   "metadata": {},
   "outputs": [
    {
     "name": "stdout",
     "output_type": "stream",
     "text": [
      "Inserte un correo electrónico:\n",
      "yosoy_jpablo@gmail.com\n",
      "Su correo electrónico es: yosoy_jpablo@gmail.com\n",
      "Correo electrónico valido.\n"
     ]
    }
   ],
   "source": [
    "print(\"Inserte un correo electrónico:\")\n",
    "text = input()\n",
    "print(\"Su correo electrónico es: \" + text)\n",
    "email_validation(text)"
   ]
  },
  {
   "cell_type": "markdown",
   "id": "cd76b656",
   "metadata": {},
   "source": [
    "## Número Telefónico"
   ]
  },
  {
   "cell_type": "markdown",
   "id": "e88df71a",
   "metadata": {},
   "source": [
    "## RFC\n"
   ]
  },
  {
   "cell_type": "markdown",
   "id": "ea210ec1",
   "metadata": {},
   "source": [
    "## Horario y Fecha "
   ]
  },
  {
   "cell_type": "markdown",
   "id": "b17b29d0",
   "metadata": {},
   "source": [
    "## URL "
   ]
  },
  {
   "cell_type": "markdown",
   "id": "bfa6a81c",
   "metadata": {},
   "source": [
    "## CURP"
   ]
  },
  {
   "cell_type": "markdown",
   "id": "8289678c",
   "metadata": {},
   "source": [
    "## Boleta "
   ]
  },
  {
   "cell_type": "markdown",
   "id": "c2363fad",
   "metadata": {},
   "source": [
    "## Direcciones IP "
   ]
  }
 ],
 "metadata": {
  "kernelspec": {
   "display_name": "Python 3 (ipykernel)",
   "language": "python",
   "name": "python3"
  },
  "language_info": {
   "codemirror_mode": {
    "name": "ipython",
    "version": 3
   },
   "file_extension": ".py",
   "mimetype": "text/x-python",
   "name": "python",
   "nbconvert_exporter": "python",
   "pygments_lexer": "ipython3",
   "version": "3.9.12"
  }
 },
 "nbformat": 4,
 "nbformat_minor": 5
}
