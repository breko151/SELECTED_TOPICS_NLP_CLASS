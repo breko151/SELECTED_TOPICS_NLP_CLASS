{
 "cells": [
  {
   "cell_type": "markdown",
   "id": "c70f9701",
   "metadata": {},
   "source": [
    "# Stemming y Lematización\n",
    "Suárez Pérez Juan Pablo"
   ]
  },
  {
   "cell_type": "code",
   "execution_count": 1,
   "id": "400247ab",
   "metadata": {},
   "outputs": [],
   "source": [
    "# Importar las bibliotecas necesarias.\n",
    "import spacy\n",
    "import nltk\n",
    "from nltk import SnowballStemmer"
   ]
  },
  {
   "cell_type": "markdown",
   "id": "43a00949",
   "metadata": {},
   "source": [
    "## Lematización"
   ]
  },
  {
   "cell_type": "code",
   "execution_count": 2,
   "id": "686958e9",
   "metadata": {},
   "outputs": [],
   "source": [
    "# Inicialización de spacy.\n",
    "nlp = spacy.load(\"es_core_news_sm\")\n",
    "# Función de normalización.\n",
    "def normalize(text):\n",
    "    doc = nlp(text)\n",
    "    words = [t.orth_ for t in doc if not t.is_punct | t.is_stop]\n",
    "    lexical_tokens = [t.lower() for t in words if len(t) > 3 and t.isalpha()]    \n",
    "    return lexical_tokens"
   ]
  },
  {
   "cell_type": "code",
   "execution_count": 3,
   "id": "2a9c64a6",
   "metadata": {},
   "outputs": [
    {
     "name": "stdout",
     "output_type": "stream",
     "text": [
      "['texto', 'pide', 'gritos', 'procesen', 'canto', 'cantas', 'canta', 'cantamos', 'cantáis', 'cantan']\n"
     ]
    }
   ],
   "source": [
    "# Implementación de la función de normalización.\n",
    "lemmas = normalize(\"\"\"Soy un texto que pide a gritos que lo procesen. Por eso yo canto, tú cantas, ella canta, nosotros cantamos, cantáis, cantan…\"\"\")\n",
    "print(lemmas)"
   ]
  },
  {
   "cell_type": "markdown",
   "id": "9ce935cb",
   "metadata": {},
   "source": [
    "## Stemming"
   ]
  },
  {
   "cell_type": "code",
   "execution_count": 4,
   "id": "60e84254",
   "metadata": {},
   "outputs": [
    {
     "name": "stdout",
     "output_type": "stream",
     "text": [
      "['soy', 'un', 'text', 'que', 'pid', 'a', 'grit', 'que', 'lo', 'procesen.', 'por', 'eso', 'yo', 'canto,', 'tu', 'cantas,', 'ella', 'canta,', 'nosotr', 'cantamos,', 'cantais,', 'cantan…']\n"
     ]
    }
   ],
   "source": [
    "# Implementación de Stemming.\n",
    "spanishstemmer = SnowballStemmer(\"spanish\")\n",
    "text = \"\"\"Soy un texto que pide a gritos que lo procesen. Por eso yo canto, tú cantas, ella canta, nosotros cantamos, cantáis, cantan…\"\"\"\n",
    "# Creación de una lista de tokens.\n",
    "tokens = text.split() \n",
    "stems = [spanishstemmer.stem(token) for token in tokens]\n",
    "print(stems)"
   ]
  }
 ],
 "metadata": {
  "kernelspec": {
   "display_name": "Python 3 (ipykernel)",
   "language": "python",
   "name": "python3"
  },
  "language_info": {
   "codemirror_mode": {
    "name": "ipython",
    "version": 3
   },
   "file_extension": ".py",
   "mimetype": "text/x-python",
   "name": "python",
   "nbconvert_exporter": "python",
   "pygments_lexer": "ipython3",
   "version": "3.9.18"
  }
 },
 "nbformat": 4,
 "nbformat_minor": 5
}
