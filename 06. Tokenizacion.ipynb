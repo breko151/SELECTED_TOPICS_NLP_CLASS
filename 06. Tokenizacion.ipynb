{
 "cells": [
  {
   "cell_type": "code",
   "execution_count": 1,
   "id": "aab64f66",
   "metadata": {},
   "outputs": [],
   "source": [
    "# Importamos las bibliotecas necesarias.\n",
    "import re\n",
    "import spacy"
   ]
  },
  {
   "cell_type": "code",
   "execution_count": 2,
   "id": "cdffe436",
   "metadata": {},
   "outputs": [],
   "source": [
    "def tokenizador(texto):\n",
    "    \"\"\"\n",
    "        Tokenizador de texto por palabras. \n",
    "        Entadas: texto.\n",
    "        Salidas: tokens.\n",
    "    \"\"\"\n",
    "    # Utilizamos una expresión regular para dividir el texto en tokens.\n",
    "    tokens = re.split(r'(\\W+)', texto)\n",
    "    # Volvemos minúsculas.\n",
    "    tokens = [token.lower() for token in tokens]\n",
    "    # Eliminamos tokens vacíos y signos de puntuación solos.\n",
    "    tokens = [token for token in tokens if token.strip()]\n",
    "    # Retornamos los valores.\n",
    "    return tokens"
   ]
  },
  {
   "cell_type": "code",
   "execution_count": 5,
   "id": "65f0165c",
   "metadata": {},
   "outputs": [
    {
     "data": {
      "text/plain": [
       "['¿¡', 'quién', '! ', 'eres', '?']"
      ]
     },
     "execution_count": 5,
     "metadata": {},
     "output_type": "execute_result"
    }
   ],
   "source": [
    "texto = \"¿¡Quién! eres?\"\n",
    "tokenizador(texto)"
   ]
  },
  {
   "cell_type": "code",
   "execution_count": 6,
   "id": "9e4285e1",
   "metadata": {},
   "outputs": [
    {
     "ename": "NameError",
     "evalue": "name 'Dictionary' is not defined",
     "output_type": "error",
     "traceback": [
      "\u001b[1;31m---------------------------------------------------------------------------\u001b[0m",
      "\u001b[1;31mNameError\u001b[0m                                 Traceback (most recent call last)",
      "Cell \u001b[1;32mIn[6], line 1\u001b[0m\n\u001b[1;32m----> 1\u001b[0m dictionary \u001b[38;5;241m=\u001b[39m \u001b[43mDictionary\u001b[49m\u001b[38;5;241m.\u001b[39mfrom_files(\u001b[38;5;124m'\u001b[39m\u001b[38;5;124men_US\u001b[39m\u001b[38;5;124m'\u001b[39m)\n\u001b[0;32m      3\u001b[0m \u001b[38;5;28mprint\u001b[39m(dictionary\u001b[38;5;241m.\u001b[39mlookup(\u001b[38;5;124m'\u001b[39m\u001b[38;5;124mspylls\u001b[39m\u001b[38;5;124m'\u001b[39m))\n\u001b[0;32m      4\u001b[0m \u001b[38;5;66;03m# False\u001b[39;00m\n",
      "\u001b[1;31mNameError\u001b[0m: name 'Dictionary' is not defined"
     ]
    }
   ],
   "source": [
    "dictionary = Dictionary.from_files('en_US')\n",
    "\n",
    "print(dictionary.lookup('spylls'))\n",
    "# False\n",
    "for suggestion in dictionary.suggest('spylls'):\n",
    "    print(suggestion)"
   ]
  },
  {
   "cell_type": "code",
   "execution_count": null,
   "id": "34da842b",
   "metadata": {},
   "outputs": [],
   "source": []
  },
  {
   "cell_type": "code",
   "execution_count": null,
   "id": "78f2f5ba",
   "metadata": {},
   "outputs": [],
   "source": [
    "import spacy\n",
    "nlp = spacy.load(\"en_core_web_sm\")\n",
    "interrogative = \"Who are you?\"\n",
    "declarative = \"I am Pablo\"\n",
    "complex_sen = \"I went to the stroe, but they were closed\""
   ]
  },
  {
   "cell_type": "code",
   "execution_count": null,
   "id": "a0f162e1",
   "metadata": {},
   "outputs": [],
   "source": [
    "doc_1 = npl(interrogative)\n",
    "doc_2 = npl(declarative)\n",
    "doc_3 = npl(complex_sen)"
   ]
  },
  {
   "cell_type": "code",
   "execution_count": null,
   "id": "5844eb45",
   "metadata": {},
   "outputs": [],
   "source": [
    "for token in doc_1:\n",
    "    print(token.text, token.pos_)\n"
   ]
  }
 ],
 "metadata": {
  "kernelspec": {
   "display_name": "Python 3 (ipykernel)",
   "language": "python",
   "name": "python3"
  },
  "language_info": {
   "codemirror_mode": {
    "name": "ipython",
    "version": 3
   },
   "file_extension": ".py",
   "mimetype": "text/x-python",
   "name": "python",
   "nbconvert_exporter": "python",
   "pygments_lexer": "ipython3",
   "version": "3.9.18"
  }
 },
 "nbformat": 4,
 "nbformat_minor": 5
}
