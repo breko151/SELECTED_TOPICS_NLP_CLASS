{
 "cells": [
  {
   "cell_type": "markdown",
   "id": "e9de503b",
   "metadata": {},
   "source": [
    "# Levenshtein\n",
    "Nava del Río José Antonio  \n",
    "Ojeda Contreras Braulio Melquisedec  \n",
    "Suárez Pérez Juan Pablo"
   ]
  },
  {
   "cell_type": "code",
   "execution_count": null,
   "id": "5ebb1e77",
   "metadata": {},
   "outputs": [],
   "source": [
    "# Implementación de corrector de Levenshtein. \n",
    "def levenshtein_corrector(palabra, palabras):\n",
    "    \"\"\"\n",
    "        Corrector de levenshtein. \n",
    "        Entrada: palabra, palabras. \n",
    "        Salida: Correción. \n",
    "    \"\"\"\n",
    "    puntajes = dict()\n",
    "    for i"
   ]
  }
 ],
 "metadata": {
  "kernelspec": {
   "display_name": "Python 3 (ipykernel)",
   "language": "python",
   "name": "python3"
  },
  "language_info": {
   "codemirror_mode": {
    "name": "ipython",
    "version": 3
   },
   "file_extension": ".py",
   "mimetype": "text/x-python",
   "name": "python",
   "nbconvert_exporter": "python",
   "pygments_lexer": "ipython3",
   "version": "3.9.12"
  }
 },
 "nbformat": 4,
 "nbformat_minor": 5
}
