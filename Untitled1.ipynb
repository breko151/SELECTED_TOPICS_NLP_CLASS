{
 "cells": [
  {
   "cell_type": "code",
   "execution_count": null,
   "id": "fd60af07",
   "metadata": {},
   "outputs": [],
   "source": [
    "!pip install fasttext\n",
    "import fasttext.util\n",
    "fasttext.util.download_model('en', if_exists='ignore')\n",
    "model = fasttext.load_model('cc.en.300.bin')\n",
    "\n",
    "# se establece la ruta al modelo preentrenado de FastText\n",
    "model_path = 'cc.en.300.bin'\n",
    "\n",
    "# se obtiene la representación vectorial de una palabra\n",
    "word = 'machine'\n",
    "vector = model.get_word_vector(word)\n",
    "\n",
    "# imprime el resultado del vecot resultante\n",
    "print(f'Vector de la palabre \\'{word}\\':')\n",
    "print(vector)"
   ]
  },
  {
   "cell_type": "code",
   "execution_count": null,
   "id": "f77d2f70",
   "metadata": {},
   "outputs": [],
   "source": [
    "import fasttext.util\n",
    "fasttext.util.download_model('en', if_exists='ignore')\n",
    "model = fasttext.load_model('cc.en.300.bin')\n",
    "\n",
    "# se establce la ruta dle modelo preentreano de FastText\n",
    "model_path = 'cc.en.300.bin'\n",
    "\n",
    "# se obtiene la representación vectorial de una palabra\n",
    "word = 'machine'\n",
    "vector = model.get_word_vector(word)\n",
    "\n",
    "# imprime el resultado del vector resultante\n",
    "print(f'Vector de la palabra \\'{word}\\':')\n",
    "print(vector)"
   ]
  },
  {
   "cell_type": "code",
   "execution_count": null,
   "id": "a86bb25f",
   "metadata": {},
   "outputs": [],
   "source": [
    "from gensim.models.doc2vec import Doc2Vec, TaggedDocument\n",
    "\n",
    "documents = [\n",
    "    \"Este es el primer documento.\",\n",
    "    \"Aquí hay un segundo documento.\",\n",
    "    \"Y aquí está el tercer documento.\",\n",
    "    \"Finalmente, el cuarot docuemnto.\"\n",
    "]\n",
    "\n",
    "# tokeniza los documentos y crea objetos TaggedDocument\n",
    "tagged_data = [TaggedDocument(words=document.split(), tags=[str(i)]), for i, document in enumerate(documents)]\n",
    "\n",
    "# se entrega un modelo Doc2Vec\n",
    "model = Doc2Vec(vector_size=20, window=2, min_count=1, workers=4, epochs=100)\n",
    "model.build_vocab(tagged_data)\n",
    "model.train(tagged_data, total_examples=model.corpus_count, epochs=model.epochs)\n",
    "\n",
    "# se obtiene la representación vectorial.\n",
    "document_to_infer=\"Este es un documento de prueba.\"\n",
    "inferred_vector = model.infer_vector(docuemt_to_infer.split())\n",
    "\n",
    "# imprime el resultado\n",
    "print(\"Vector del docuemnto:\")\n",
    "print(inferred_vector)"
   ]
  },
  {
   "cell_type": "code",
   "execution_count": null,
   "id": "93c56f21",
   "metadata": {},
   "outputs": [],
   "source": [
    "from transformers import BertTokenizer, BertModel\n",
    "import torch\n",
    "\n",
    "# carga el modelo y el tokenizador de BERT preentreando\n",
    "model_name = \"bert-base-uncased\"\n",
    "tokenizer = BertTokenizer.from_pretrained(model_name)\n",
    "model = BertModel.from_pretrained(model_name)\n",
    "\n",
    "# ejemplo del input\n",
    "text = \"esto es una oración en la que se obtendrá su representación vectorial.\"\n",
    "\n",
    "# tokenizar el texto y convertirlo a tensores\n",
    "tokens = tokenizer(text, return_ternsors='pt')\n",
    "input_ids = tokens['input_ids']\n",
    "attention_mask = tokens[\"attention_mask\"]\n",
    "\n",
    "# se obtiene una representación vectorial del texto\n",
    "with torch.no_grad():\n",
    "    outputs = model(input_ids, attetion_mask=attention_mask)\n",
    "    embeddings = outputs.last_hidden_state.mean(dim=1).squeeze()\n",
    "    \n",
    "# se imprime el resultado\n",
    "print(\"Vector de representación del texto:\")\n",
    "print(embedings)"
   ]
  },
  {
   "cell_type": "code",
   "execution_count": null,
   "id": "0ce8150d",
   "metadata": {},
   "outputs": [],
   "source": []
  }
 ],
 "metadata": {
  "kernelspec": {
   "display_name": "Python 3 (ipykernel)",
   "language": "python",
   "name": "python3"
  },
  "language_info": {
   "codemirror_mode": {
    "name": "ipython",
    "version": 3
   },
   "file_extension": ".py",
   "mimetype": "text/x-python",
   "name": "python",
   "nbconvert_exporter": "python",
   "pygments_lexer": "ipython3",
   "version": "3.9.18"
  }
 },
 "nbformat": 4,
 "nbformat_minor": 5
}
