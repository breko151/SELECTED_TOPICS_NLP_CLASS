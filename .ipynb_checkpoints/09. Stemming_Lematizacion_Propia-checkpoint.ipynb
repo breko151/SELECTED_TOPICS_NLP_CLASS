{
 "cells": [
  {
   "cell_type": "markdown",
   "id": "f16108fa",
   "metadata": {},
   "source": [
    "# Stemming\n",
    "    "
   ]
  },
  {
   "cell_type": "code",
   "execution_count": null,
   "id": "02c6cf60",
   "metadata": {},
   "outputs": [
    {
     "name": "stderr",
     "output_type": "stream",
     "text": [
      "[nltk_data] Downloading collection 'all'\n",
      "[nltk_data]    | \n",
      "[nltk_data]    | Downloading package abc to C:\\Users\\USUARIO\n",
      "[nltk_data]    |     DELL\\AppData\\Roaming\\nltk_data...\n",
      "[nltk_data]    |   Package abc is already up-to-date!\n",
      "[nltk_data]    | Downloading package alpino to C:\\Users\\USUARIO\n",
      "[nltk_data]    |     DELL\\AppData\\Roaming\\nltk_data...\n",
      "[nltk_data]    |   Unzipping corpora\\alpino.zip.\n"
     ]
    }
   ],
   "source": [
    "import nltk\n",
    "nltk.download('all')"
   ]
  },
  {
   "cell_type": "code",
   "execution_count": 1,
   "id": "09671c59",
   "metadata": {},
   "outputs": [
    {
     "name": "stderr",
     "output_type": "stream",
     "text": [
      "C:\\Users\\ADMIN\\anaconda3\\lib\\site-packages\\scipy\\__init__.py:146: UserWarning: A NumPy version >=1.16.5 and <1.23.0 is required for this version of SciPy (detected version 1.24.3\n",
      "  warnings.warn(f\"A NumPy version >={np_minversion} and <{np_maxversion}\"\n",
      "[nltk_data] Downloading package punkt to\n",
      "[nltk_data]     C:\\Users\\ADMIN\\AppData\\Roaming\\nltk_data...\n",
      "[nltk_data]   Package punkt is already up-to-date!\n"
     ]
    },
    {
     "data": {
      "text/plain": [
       "True"
      ]
     },
     "execution_count": 1,
     "metadata": {},
     "output_type": "execute_result"
    }
   ],
   "source": [
    "import nltk\n",
    "from nltk.stem import PorterStemmer\n",
    "nltk.download('punkt')"
   ]
  },
  {
   "cell_type": "code",
   "execution_count": 2,
   "id": "9d08c117",
   "metadata": {},
   "outputs": [],
   "source": [
    "ps = PorterStemmer()"
   ]
  },
  {
   "cell_type": "code",
   "execution_count": 23,
   "id": "953a4f0f",
   "metadata": {},
   "outputs": [],
   "source": [
    "example_words = ['Generous', 'General', 'Generosity', 'Generousness', 'Generally', 'Students']"
   ]
  },
  {
   "cell_type": "code",
   "execution_count": 24,
   "id": "03761a14",
   "metadata": {},
   "outputs": [
    {
     "name": "stdout",
     "output_type": "stream",
     "text": [
      "--Word--            --Stem--            \n",
      "Generous            gener               \n",
      "General             gener               \n",
      "Generosity          generos             \n",
      "Generousness        gener               \n",
      "Generally           gener               \n",
      "Students            student             \n"
     ]
    }
   ],
   "source": [
    "print('{:20}{:20}'.format('--Word--', '--Stem--'))\n",
    "for word in example_words:\n",
    "    print('{:20}{:20}'.format(word, ps.stem(word)))"
   ]
  },
  {
   "cell_type": "code",
   "execution_count": 25,
   "id": "a40779c5",
   "metadata": {},
   "outputs": [
    {
     "name": "stderr",
     "output_type": "stream",
     "text": [
      "[nltk_data] Downloading package wordnet to\n",
      "[nltk_data]     C:\\Users\\ADMIN\\AppData\\Roaming\\nltk_data...\n",
      "[nltk_data]   Package wordnet is already up-to-date!\n",
      "[nltk_data] Downloading package omw-1.4 to\n",
      "[nltk_data]     C:\\Users\\ADMIN\\AppData\\Roaming\\nltk_data...\n",
      "[nltk_data]   Package omw-1.4 is already up-to-date!\n"
     ]
    },
    {
     "data": {
      "text/plain": [
       "True"
      ]
     },
     "execution_count": 25,
     "metadata": {},
     "output_type": "execute_result"
    }
   ],
   "source": [
    "from nltk.stem import WordNetLemmatizer\n",
    "nltk.download('wordnet')\n",
    "nltk.download('omw-1.4')"
   ]
  },
  {
   "cell_type": "code",
   "execution_count": 26,
   "id": "89f6dd34",
   "metadata": {},
   "outputs": [],
   "source": [
    "wnl = WordNetLemmatizer()"
   ]
  },
  {
   "cell_type": "code",
   "execution_count": 28,
   "id": "503e7c9f",
   "metadata": {},
   "outputs": [
    {
     "name": "stdout",
     "output_type": "stream",
     "text": [
      "--Word--            --Lemma--           \n",
      "Generous            Generous            \n",
      "General             General             \n",
      "Generosity          Generosity          \n",
      "Generousness        Generousness        \n",
      "Generally           Generally           \n",
      "Students            Students            \n"
     ]
    }
   ],
   "source": [
    "print('{:20}{:20}'.format('--Word--', '--Lemma--'))\n",
    "for word in example_words:\n",
    "    print('{:20}{:20}'.format(word, wnl.lemmatize(word, pos='v')))"
   ]
  },
  {
   "cell_type": "code",
   "execution_count": 31,
   "id": "cd424f02",
   "metadata": {},
   "outputs": [],
   "source": [
    "import string\n",
    "from nltk.tokenize import word_tokenize"
   ]
  },
  {
   "cell_type": "code",
   "execution_count": 46,
   "id": "cb22e493",
   "metadata": {},
   "outputs": [],
   "source": [
    "#example_sentence = 'If you are not willing to risk the usual, you will have to settle for the ordinary, you only fail when you just not try'\n",
    "example_sentence = 'After finishing her exams, which she had been preparing for tirelessly, Sarah decided to treat herself to a relaxing weekend getaway, during which she explored the picturesque countryside and indulged in delicious local cuisine, ultimately finding the peace and rejuvenation she desperately needed after months of hard work.'"
   ]
  },
  {
   "cell_type": "code",
   "execution_count": 47,
   "id": "709cef29",
   "metadata": {},
   "outputs": [],
   "source": [
    "example_sentence_no_punct = example_sentence.translate(str.maketrans('', '', string.punctuation))"
   ]
  },
  {
   "cell_type": "code",
   "execution_count": 48,
   "id": "3eca4916",
   "metadata": {},
   "outputs": [],
   "source": [
    "word_tokens = word_tokenize(example_sentence_no_punct)"
   ]
  },
  {
   "cell_type": "code",
   "execution_count": 49,
   "id": "d31e1114",
   "metadata": {},
   "outputs": [
    {
     "name": "stdout",
     "output_type": "stream",
     "text": [
      "--Word--            --Stem--            \n",
      "After               after               \n",
      "finishing           finish              \n",
      "her                 her                 \n",
      "exams               exam                \n",
      "which               which               \n",
      "she                 she                 \n",
      "had                 had                 \n",
      "been                been                \n",
      "preparing           prepar              \n",
      "for                 for                 \n",
      "tirelessly          tirelessli          \n",
      "Sarah               sarah               \n",
      "decided             decid               \n",
      "to                  to                  \n",
      "treat               treat               \n",
      "herself             herself             \n",
      "to                  to                  \n",
      "a                   a                   \n",
      "relaxing            relax               \n",
      "weekend             weekend             \n",
      "getaway             getaway             \n",
      "during              dure                \n",
      "which               which               \n",
      "she                 she                 \n",
      "explored            explor              \n",
      "the                 the                 \n",
      "picturesque         picturesqu          \n",
      "countryside         countrysid          \n",
      "and                 and                 \n",
      "indulged            indulg              \n",
      "in                  in                  \n",
      "delicious           delici              \n",
      "local               local               \n",
      "cuisine             cuisin              \n",
      "ultimately          ultim               \n",
      "finding             find                \n",
      "the                 the                 \n",
      "peace               peac                \n",
      "and                 and                 \n",
      "rejuvenation        rejuven             \n",
      "she                 she                 \n",
      "desperately         desper              \n",
      "needed              need                \n",
      "after               after               \n",
      "months              month               \n",
      "of                  of                  \n",
      "hard                hard                \n",
      "work                work                \n"
     ]
    }
   ],
   "source": [
    "print('{:20}{:20}'.format('--Word--', '--Stem--'))\n",
    "for word in word_tokens:\n",
    "    print('{:20}{:20}'.format(word, ps.stem(word)))"
   ]
  },
  {
   "cell_type": "code",
   "execution_count": 50,
   "id": "00458fe9",
   "metadata": {},
   "outputs": [
    {
     "name": "stdout",
     "output_type": "stream",
     "text": [
      "--Word--            --Lemma--           \n",
      "After               After               \n",
      "finishing           finish              \n",
      "her                 her                 \n",
      "exams               exams               \n",
      "which               which               \n",
      "she                 she                 \n",
      "had                 have                \n",
      "been                be                  \n",
      "preparing           prepare             \n",
      "for                 for                 \n",
      "tirelessly          tirelessly          \n",
      "Sarah               Sarah               \n",
      "decided             decide              \n",
      "to                  to                  \n",
      "treat               treat               \n",
      "herself             herself             \n",
      "to                  to                  \n",
      "a                   a                   \n",
      "relaxing            relax               \n",
      "weekend             weekend             \n",
      "getaway             getaway             \n",
      "during              during              \n",
      "which               which               \n",
      "she                 she                 \n",
      "explored            explore             \n",
      "the                 the                 \n",
      "picturesque         picturesque         \n",
      "countryside         countryside         \n",
      "and                 and                 \n",
      "indulged            indulge             \n",
      "in                  in                  \n",
      "delicious           delicious           \n",
      "local               local               \n",
      "cuisine             cuisine             \n",
      "ultimately          ultimately          \n",
      "finding             find                \n",
      "the                 the                 \n",
      "peace               peace               \n",
      "and                 and                 \n",
      "rejuvenation        rejuvenation        \n",
      "she                 she                 \n",
      "desperately         desperately         \n",
      "needed              need                \n",
      "after               after               \n",
      "months              months              \n",
      "of                  of                  \n",
      "hard                hard                \n",
      "work                work                \n"
     ]
    }
   ],
   "source": [
    "print('{:20}{:20}'.format('--Word--', '--Lemma--'))\n",
    "for word in word_tokens:\n",
    "    print('{:20}{:20}'.format(word, wnl.lemmatize(word, pos='v')))"
   ]
  },
  {
   "cell_type": "code",
   "execution_count": null,
   "id": "14193077",
   "metadata": {},
   "outputs": [],
   "source": []
  },
  {
   "cell_type": "code",
   "execution_count": null,
   "id": "7b8c1cf0",
   "metadata": {},
   "outputs": [],
   "source": []
  },
  {
   "cell_type": "code",
   "execution_count": null,
   "id": "f25db369",
   "metadata": {},
   "outputs": [],
   "source": []
  },
  {
   "cell_type": "code",
   "execution_count": null,
   "id": "ffdf5524",
   "metadata": {},
   "outputs": [],
   "source": []
  },
  {
   "cell_type": "code",
   "execution_count": null,
   "id": "a73e2b39",
   "metadata": {},
   "outputs": [],
   "source": []
  },
  {
   "cell_type": "code",
   "execution_count": null,
   "id": "34cefd03",
   "metadata": {},
   "outputs": [],
   "source": []
  },
  {
   "cell_type": "code",
   "execution_count": null,
   "id": "cb677751",
   "metadata": {},
   "outputs": [],
   "source": []
  },
  {
   "cell_type": "code",
   "execution_count": null,
   "id": "26f00ba0",
   "metadata": {},
   "outputs": [],
   "source": []
  },
  {
   "cell_type": "code",
   "execution_count": null,
   "id": "115e6f23",
   "metadata": {},
   "outputs": [],
   "source": []
  },
  {
   "cell_type": "code",
   "execution_count": null,
   "id": "245ba680",
   "metadata": {},
   "outputs": [],
   "source": []
  },
  {
   "cell_type": "code",
   "execution_count": null,
   "id": "dfc8ad24",
   "metadata": {},
   "outputs": [],
   "source": []
  }
 ],
 "metadata": {
  "kernelspec": {
   "display_name": "Python 3 (ipykernel)",
   "language": "python",
   "name": "python3"
  },
  "language_info": {
   "codemirror_mode": {
    "name": "ipython",
    "version": 3
   },
   "file_extension": ".py",
   "mimetype": "text/x-python",
   "name": "python",
   "nbconvert_exporter": "python",
   "pygments_lexer": "ipython3",
   "version": "3.9.18"
  }
 },
 "nbformat": 4,
 "nbformat_minor": 5
}
