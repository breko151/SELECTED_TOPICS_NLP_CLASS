{
 "cells": [
  {
   "cell_type": "markdown",
   "id": "23263d9b",
   "metadata": {},
   "source": [
    "# Probar Bibliotecas\n",
    "Nava del Río José Antonio  \n",
    "Ojeda Contreras Braulio Melquisedec  \n",
    "Suárez Pérez Juan Pablo"
   ]
  },
  {
   "cell_type": "code",
   "execution_count": 1,
   "id": "1372e9d5",
   "metadata": {},
   "outputs": [],
   "source": [
    "# Importar bibliotecas...\n",
    "    # Correctores ortográficos. \n",
    "from autocorrect import Speller\n",
    "from spellchecker import SpellChecker\n",
    "from textblob import TextBlob\n",
    "import phunspell\n",
    "    # Tablas.\n",
    "from tabulate import tabulate \n",
    "import numpy as np"
   ]
  },
  {
   "cell_type": "markdown",
   "id": "a1e2b176",
   "metadata": {},
   "source": [
    "## Palabras en Español"
   ]
  },
  {
   "cell_type": "code",
   "execution_count": 2,
   "id": "85cd6c89",
   "metadata": {},
   "outputs": [],
   "source": [
    "# Configuración de autocorrect.\n",
    "corrector_1 = Speller(lang=\"es\")\n",
    "corrector_2 = SpellChecker(language=\"es\")\n",
    "corrector_3 = phunspell.Phunspell('es')"
   ]
  },
  {
   "cell_type": "code",
   "execution_count": 3,
   "id": "ec7abb0c",
   "metadata": {},
   "outputs": [],
   "source": [
    "# Lectura de archivo con palabras.\n",
    "root = \"./pruebas_bibliotecas/Correctas-Incorrectas.txt\"\n",
    "with open(root, 'r', encoding='utf-8') as archivo:\n",
    "    lista_palabras = list()\n",
    "    for linea in archivo:\n",
    "        palabras = linea.strip().split(\"-\")\n",
    "        # Convertimos las palabras en minúsculas.\n",
    "        palabras = [i.lower() for i in palabras]\n",
    "        if len(palabras) == 2:\n",
    "            lista_palabras.append(palabras)"
   ]
  },
  {
   "cell_type": "code",
   "execution_count": 4,
   "id": "a0a3a3b3",
   "metadata": {},
   "outputs": [],
   "source": [
    "# Seleccionamos solo 20 palabras.\n",
    "lista_palabras = lista_palabras[:20]"
   ]
  },
  {
   "cell_type": "code",
   "execution_count": 5,
   "id": "1f169e9d",
   "metadata": {},
   "outputs": [
    {
     "name": "stdout",
     "output_type": "stream",
     "text": [
      "Vamos en la palabra: 1\n",
      "Vamos en la palabra: 2\n",
      "Vamos en la palabra: 3\n",
      "Vamos en la palabra: 4\n",
      "Vamos en la palabra: 5\n",
      "Vamos en la palabra: 6\n",
      "Vamos en la palabra: 7\n",
      "Vamos en la palabra: 8\n",
      "Vamos en la palabra: 9\n",
      "Vamos en la palabra: 10\n",
      "Vamos en la palabra: 11\n",
      "Vamos en la palabra: 12\n",
      "Vamos en la palabra: 13\n",
      "Vamos en la palabra: 14\n",
      "Vamos en la palabra: 15\n",
      "Vamos en la palabra: 16\n",
      "Vamos en la palabra: 17\n",
      "Vamos en la palabra: 18\n",
      "Vamos en la palabra: 19\n",
      "Vamos en la palabra: 20\n"
     ]
    }
   ],
   "source": [
    "# Generamos las tablas de correcciones y puntajes.\n",
    "correcciones = list()\n",
    "puntajes = list()\n",
    "contador = 0\n",
    "# Recorremos todas las palabras. \n",
    "for palabras in lista_palabras:\n",
    "    # Realizamos un conteo de las palabras.\n",
    "    contador = contador + 1\n",
    "    # Dividimos en palabras bien y mal escritas.\n",
    "    palabra_bien_escrita = palabras[0]\n",
    "    palabra_mal_escrita = palabras[1]\n",
    "    # Correcciones con autocorrect.\n",
    "    correccion_1 = corrector_1(palabra_mal_escrita)\n",
    "    # Correciones con spellchecker.\n",
    "    sugerencias_1 = list(corrector_2.candidates(palabra_mal_escrita))\n",
    "    if sugerencias_1:\n",
    "        correccion_2 = sugerencias_1[0]\n",
    "    else:\n",
    "        correccion_2 = palabra_mal_escrita\n",
    "    # Correciones con hunspell.\n",
    "    sugerencias_2 = list(corrector_3.suggest(palabra_mal_escrita))\n",
    "    if sugerencias_2:\n",
    "        correccion_3 = sugerencias_2[0]\n",
    "    else:\n",
    "        correccion_3 = palabra_mal_escrita\n",
    "    # Correciones con TextBlob.\n",
    "    blob = TextBlob(palabra_mal_escrita)\n",
    "    #correccion_3 = blob.words[0].spellcheck()[0][0]\n",
    "    correccion_4 = blob.words[0].correct()\n",
    "    # Anexar correciones.\n",
    "    correcciones.append([palabra_mal_escrita, palabra_bien_escrita, correccion_1, correccion_2, correccion_3, correccion_4])\n",
    "    # Puntos.\n",
    "    puntos_1 = 0\n",
    "    puntos_2 = 0\n",
    "    puntos_3 = 0\n",
    "    puntos_4 = 0\n",
    "    if correccion_1 == palabra_bien_escrita:\n",
    "        puntos_1 = 1\n",
    "    if correccion_2 == palabra_bien_escrita:\n",
    "        puntos_2 = 1\n",
    "    if correccion_3 == palabra_bien_escrita:\n",
    "        puntos_3 = 1\n",
    "    if correccion_4 == palabra_bien_escrita:\n",
    "        puntos_4 = 1\n",
    "    puntajes.append([puntos_1, puntos_2, puntos_3, puntos_4])\n",
    "    # Conteo de palabras.\n",
    "    print(\"Vamos en la palabra: \" + str(contador))"
   ]
  },
  {
   "cell_type": "code",
   "execution_count": 6,
   "id": "401084b8",
   "metadata": {},
   "outputs": [
    {
     "name": "stdout",
     "output_type": "stream",
     "text": [
      "+--------------+---------------+--------------+--------------+--------------+--------------+\n",
      "| Mal escritas | Bien escritas | autocorrect  | spellchecker |   hunspell   |   textblob   |\n",
      "+--------------+---------------+--------------+--------------+--------------+--------------+\n",
      "|   otomóvil   |   automóvil   |  automóvil   |  automóvil   |  oto móvil   |   otomóvil   |\n",
      "| conputadora  |  computadora  | computadora  | computadora  | computadora  | conputadora  |\n",
      "|  telephono   |   teléfono    |  telephone   |  telephone   |  telefoneo   |  telephone   |\n",
      "|  restorante  |  restaurante  | restaurante  |  restoranes  | restaurante  |  restorante  |\n",
      "|   camminar   |    caminar    |   caminar    |   caminar    |   caminar    |   camminar   |\n",
      "|    felizz    |     feliz     |    feliz     |    feliz     |    feliz     |    eliza     |\n",
      "|    biage     |     viaje     |    viage     |     bags     |    agobia    |    bridge    |\n",
      "| refrijerador | refrigerador  | refrigerador | refrigerador | refrigerador | refrigerator |\n",
      "|    rapido    |    rápido     |    rapido    |    rapido    |    rápido    |    rapid     |\n",
      "|  bilioteca   |  biblioteca   |  biblioteca  |  biblioteca  |  biblioteca  |  bilioteca   |\n",
      "|  diferente   |   diferente   |  diferente   |  diferente   |  diferente   |  different   |\n",
      "|    acsión    |    acción     |    acción    |    acción    |    acción    |    action    |\n",
      "|    comida    |    comida     |    comida    |    comida    |   acomida    |    coming    |\n",
      "|    mañana    |    mañana     |    mañana    |    mañana    |    mañana    |    havana    |\n",
      "|  solucsión   |   solución    |   solución   |   solución   |   solución   |  solucsión   |\n",
      "|   correpto   |   correcto    |   correcto   |   correcto   |   correcto   |   correct    |\n",
      "|    facil     |     fácil     |    facil     |    facil     |    fácil     |     fail     |\n",
      "|    jardin    |    jardín     |    jardin    |    jardin    |    jardín    |    garden    |\n",
      "| interesante  |  interesante  | interesante  | interesante  | interesante  | interesante  |\n",
      "|  gobiernno   |   gobierno    |   gobierno   |   gobierno   |   gobierno   |  gobiernno   |\n",
      "+--------------+---------------+--------------+--------------+--------------+--------------+\n"
     ]
    }
   ],
   "source": [
    "# Comparación de correciones.\n",
    "headers = [\"Mal escritas\", \"Bien escritas\", \"autocorrect\", \"spellchecker\", \"hunspell\", \"textblob\"]\n",
    "print(tabulate(correcciones, headers=headers, tablefmt=\"pretty\"))"
   ]
  },
  {
   "cell_type": "code",
   "execution_count": 7,
   "id": "50292ecb",
   "metadata": {},
   "outputs": [
    {
     "name": "stdout",
     "output_type": "stream",
     "text": [
      "+-------------+--------------+----------+----------+\n",
      "| autocorrect | spellchecker | hunspell | textblob |\n",
      "+-------------+--------------+----------+----------+\n",
      "|      1      |      1       |    0     |    0     |\n",
      "|      1      |      1       |    1     |    0     |\n",
      "|      0      |      0       |    0     |    0     |\n",
      "|      1      |      0       |    1     |    0     |\n",
      "|      1      |      1       |    1     |    0     |\n",
      "|      1      |      1       |    1     |    0     |\n",
      "|      0      |      0       |    0     |    0     |\n",
      "|      1      |      1       |    1     |    0     |\n",
      "|      0      |      0       |    1     |    0     |\n",
      "|      1      |      1       |    1     |    0     |\n",
      "|      1      |      1       |    1     |    0     |\n",
      "|      1      |      1       |    1     |    0     |\n",
      "|      1      |      1       |    0     |    0     |\n",
      "|      1      |      1       |    1     |    0     |\n",
      "|      1      |      1       |    1     |    0     |\n",
      "|      1      |      1       |    1     |    0     |\n",
      "|      0      |      0       |    1     |    0     |\n",
      "|      0      |      0       |    1     |    0     |\n",
      "|      1      |      1       |    1     |    1     |\n",
      "|      1      |      1       |    1     |    0     |\n",
      "+-------------+--------------+----------+----------+\n"
     ]
    }
   ],
   "source": [
    "# Comparación de puntajes.\n",
    "headers = [\"autocorrect\", \"spellchecker\", \"hunspell\", \"textblob\"]\n",
    "print(tabulate(puntajes, headers=headers, tablefmt=\"pretty\"))"
   ]
  },
  {
   "cell_type": "code",
   "execution_count": 8,
   "id": "45314605",
   "metadata": {},
   "outputs": [
    {
     "name": "stdout",
     "output_type": "stream",
     "text": [
      "autocorrect promedio: 0.75\n",
      "spellchecker promedio: 0.7\n",
      "hunspell promedio: 0.8\n",
      "textblob promedio: 0.05\n"
     ]
    }
   ],
   "source": [
    "puntajes = np.array(puntajes)\n",
    "promedios = np.mean(puntajes, axis = 0)\n",
    "for i in range(len(promedios)):\n",
    "    print(headers[i] + \" promedio: \" + str(promedios[i]))"
   ]
  },
  {
   "cell_type": "markdown",
   "id": "83fe9e2c",
   "metadata": {},
   "source": [
    "## Palabras en Inglés"
   ]
  },
  {
   "cell_type": "code",
   "execution_count": 9,
   "id": "edb7e836",
   "metadata": {},
   "outputs": [],
   "source": [
    "# Configuración de autocorrect.\n",
    "corrector_1 = Speller(lang=\"en\")\n",
    "corrector_2 = SpellChecker(language=\"en\")\n",
    "corrector_3 = phunspell.Phunspell('en_US')"
   ]
  },
  {
   "cell_type": "code",
   "execution_count": 10,
   "id": "6bdac058",
   "metadata": {},
   "outputs": [],
   "source": [
    "# Lectura de archivo con palabras.\n",
    "root = \"./pruebas_bibliotecas/Correct-Incorrect.txt\"\n",
    "with open(root, 'r', encoding='utf-8') as archivo:\n",
    "    lista_palabras = list()\n",
    "    for linea in archivo:\n",
    "        palabras = linea.strip().split(\"-\")\n",
    "        # Convertimos las palabras en minúsculas.\n",
    "        palabras = [i.lower() for i in palabras]\n",
    "        if len(palabras) == 2:\n",
    "            lista_palabras.append(palabras)"
   ]
  },
  {
   "cell_type": "code",
   "execution_count": 11,
   "id": "cde4b3c4",
   "metadata": {},
   "outputs": [
    {
     "name": "stdout",
     "output_type": "stream",
     "text": [
      "Vamos en la palabra: 1\n",
      "Vamos en la palabra: 2\n",
      "Vamos en la palabra: 3\n",
      "Vamos en la palabra: 4\n",
      "Vamos en la palabra: 5\n",
      "Vamos en la palabra: 6\n",
      "Vamos en la palabra: 7\n",
      "Vamos en la palabra: 8\n",
      "Vamos en la palabra: 9\n",
      "Vamos en la palabra: 10\n"
     ]
    }
   ],
   "source": [
    "# Generamos las tablas de correcciones y puntajes.\n",
    "correcciones = list()\n",
    "puntajes = list()\n",
    "contador = 0\n",
    "# Recorremos todas las palabras. \n",
    "for palabras in lista_palabras:\n",
    "    # Realizamos un conteo de las palabras.\n",
    "    contador = contador + 1\n",
    "    # Dividimos en palabras bien y mal escritas.\n",
    "    palabra_bien_escrita = palabras[0]\n",
    "    palabra_mal_escrita = palabras[1]\n",
    "    # Correcciones con autocorrect.\n",
    "    correccion_1 = corrector_1(palabra_mal_escrita)\n",
    "    # Correciones con spellchecker.\n",
    "    sugerencias_1 = list(corrector_2.candidates(palabra_mal_escrita))\n",
    "    if sugerencias_1:\n",
    "        correccion_2 = sugerencias_1[0]\n",
    "    else:\n",
    "        correccion_2 = palabra_mal_escrita\n",
    "    # Correciones con hunspell.\n",
    "    sugerencias_2 = list(corrector_3.suggest(palabra_mal_escrita))\n",
    "    if sugerencias_2:\n",
    "        correccion_3 = sugerencias_2[0]\n",
    "    else:\n",
    "        correccion_3 = palabra_mal_escrita\n",
    "    # Correciones con TextBlob.\n",
    "    blob = TextBlob(palabra_mal_escrita)\n",
    "    #correccion_3 = blob.words[0].spellcheck()[0][0]\n",
    "    correccion_4 = blob.words[0].correct()\n",
    "    # Anexar correciones.\n",
    "    correcciones.append([palabra_mal_escrita, palabra_bien_escrita, correccion_1, correccion_2, correccion_3, correccion_4])\n",
    "    # Puntos.\n",
    "    puntos_1 = 0\n",
    "    puntos_2 = 0\n",
    "    puntos_3 = 0\n",
    "    puntos_4 = 0\n",
    "    if correccion_1 == palabra_bien_escrita:\n",
    "        puntos_1 = 1\n",
    "    if correccion_2 == palabra_bien_escrita:\n",
    "        puntos_2 = 1\n",
    "    if correccion_3 == palabra_bien_escrita:\n",
    "        puntos_3 = 1\n",
    "    if correccion_4 == palabra_bien_escrita:\n",
    "        puntos_4 = 1\n",
    "    puntajes.append([puntos_1, puntos_2, puntos_3, puntos_4])\n",
    "    # Conteo de palabras.\n",
    "    print(\"Vamos en la palabra: \" + str(contador))"
   ]
  },
  {
   "cell_type": "code",
   "execution_count": 12,
   "id": "b40e9351",
   "metadata": {},
   "outputs": [
    {
     "name": "stdout",
     "output_type": "stream",
     "text": [
      "+--------------+---------------+-------------+--------------+----------+-----------+\n",
      "| Mal escritas | Bien escritas | autocorrect | spellchecker | hunspell | textblob  |\n",
      "+--------------+---------------+-------------+--------------+----------+-----------+\n",
      "|     aple     |     apple     |    able     |     pale     |   pale   |   able    |\n",
      "|   bananna    |    banana     |   banana    |   bandanna   |  banana  |  banana   |\n",
      "|     kat      |      cat      |     kat     |     kat      |   chat   |    at     |\n",
      "|     dogg     |      dog      |    dogg     |     dogg     |   dog    |    dog    |\n",
      "|   elefant    |   elephant    |   elegant   |   elegant    | elephant |  elegant  |\n",
      "|    girafe    |    giraffe    |   giraffe   |   giraffe    | giraffe  |   grave   |\n",
      "|     hous     |     house     |    house    |     hous     |   hos    |   house   |\n",
      "|    jaket     |    jacket     |   jacket    |    jakes     |  jacket  |  jacket   |\n",
      "|  kangarooo   |   kangaroo    |  kangaroo   |   kangaroo   | kangaroo | kangarooo |\n",
      "|     lyon     |     lion      |    lyon     |     lyon     |   Lyon   |   lyon    |\n",
      "+--------------+---------------+-------------+--------------+----------+-----------+\n"
     ]
    }
   ],
   "source": [
    "# Comparación de correciones.\n",
    "headers = [\"Mal escritas\", \"Bien escritas\", \"autocorrect\", \"spellchecker\", \"hunspell\", \"textblob\"]\n",
    "print(tabulate(correcciones, headers=headers, tablefmt=\"pretty\"))"
   ]
  },
  {
   "cell_type": "code",
   "execution_count": 13,
   "id": "9d46e55d",
   "metadata": {},
   "outputs": [
    {
     "name": "stdout",
     "output_type": "stream",
     "text": [
      "+-------------+--------------+----------+----------+\n",
      "| autocorrect | spellchecker | hunspell | textblob |\n",
      "+-------------+--------------+----------+----------+\n",
      "|      0      |      0       |    0     |    0     |\n",
      "|      1      |      0       |    1     |    1     |\n",
      "|      0      |      0       |    0     |    0     |\n",
      "|      0      |      0       |    1     |    1     |\n",
      "|      0      |      0       |    1     |    0     |\n",
      "|      1      |      1       |    1     |    0     |\n",
      "|      1      |      0       |    0     |    1     |\n",
      "|      1      |      0       |    1     |    1     |\n",
      "|      1      |      1       |    1     |    0     |\n",
      "|      0      |      0       |    0     |    0     |\n",
      "+-------------+--------------+----------+----------+\n"
     ]
    }
   ],
   "source": [
    "# Comparación de puntajes.\n",
    "headers = [\"autocorrect\", \"spellchecker\", \"hunspell\", \"textblob\"]\n",
    "print(tabulate(puntajes, headers=headers, tablefmt=\"pretty\"))"
   ]
  },
  {
   "cell_type": "code",
   "execution_count": 14,
   "id": "b21ab10c",
   "metadata": {},
   "outputs": [
    {
     "name": "stdout",
     "output_type": "stream",
     "text": [
      "autocorrect promedio: 0.5\n",
      "spellchecker promedio: 0.2\n",
      "hunspell promedio: 0.6\n",
      "textblob promedio: 0.4\n"
     ]
    }
   ],
   "source": [
    "puntajes = np.array(puntajes)\n",
    "promedios = np.mean(puntajes, axis = 0)\n",
    "for i in range(len(promedios)):\n",
    "    print(headers[i] + \" promedio: \" + str(promedios[i]))"
   ]
  }
 ],
 "metadata": {
  "kernelspec": {
   "display_name": "Python 3 (ipykernel)",
   "language": "python",
   "name": "python3"
  },
  "language_info": {
   "codemirror_mode": {
    "name": "ipython",
    "version": 3
   },
   "file_extension": ".py",
   "mimetype": "text/x-python",
   "name": "python",
   "nbconvert_exporter": "python",
   "pygments_lexer": "ipython3",
   "version": "3.9.18"
  }
 },
 "nbformat": 4,
 "nbformat_minor": 5
}
