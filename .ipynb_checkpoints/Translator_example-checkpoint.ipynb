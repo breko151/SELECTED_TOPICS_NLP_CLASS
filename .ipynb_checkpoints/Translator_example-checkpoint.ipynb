{
 "cells": [
  {
   "cell_type": "code",
   "execution_count": 1,
   "id": "beb3226e",
   "metadata": {},
   "outputs": [
    {
     "name": "stderr",
     "output_type": "stream",
     "text": [
      "[nltk_data] Downloading package punkt to C:\\Users\\USUARIO\n",
      "[nltk_data]     DELL\\AppData\\Roaming\\nltk_data...\n",
      "[nltk_data]   Package punkt is already up-to-date!\n"
     ]
    },
    {
     "data": {
      "text/plain": [
       "True"
      ]
     },
     "execution_count": 1,
     "metadata": {},
     "output_type": "execute_result"
    }
   ],
   "source": [
    "# Import the libraries needed\n",
    "import json\n",
    "import nltk\n",
    "from nltk.tokenize import sent_tokenize\n",
    "nltk.download('punkt')"
   ]
  },
  {
   "cell_type": "code",
   "execution_count": 2,
   "id": "023e87d0",
   "metadata": {},
   "outputs": [],
   "source": [
    "class RBMTranslator:\n",
    "    def __init__(self, state=\"e-s\"):\n",
    "        self.state = state\n",
    "        self.path = \"./dicts/examples.json\"\n",
    "    \n",
    "    \n",
    "    def save_dict(self, dictionary):\n",
    "        # Save dictionary.\n",
    "        with open(self.path, \"w\") as file:\n",
    "            json.dump(dictionary, file)\n",
    "    \n",
    "    def translate(self, text):\n",
    "        # Tokenize text.\n",
    "        translator_tokens = list()\n",
    "        tokens = sent_tokenize(text)\n",
    "        # Flags\n",
    "        flags = [0 for _ in range(len(tokens))]\n",
    "        # Read path. \n",
    "        with open(self.path, \"r\") as file:\n",
    "            dictionary = json.load(file)\n",
    "        # Explore tokens.\n",
    "        for i in range(len(tokens)):\n",
    "            if self.state == \"e-s\":\n",
    "                if tokens[i] in dictionary:\n",
    "                    translator_tokens.append(dictionary[tokens[i]])\n",
    "                    flags[i] = 1\n",
    "                else:\n",
    "                    translator_tokens.append(tokens[i])\n",
    "            elif self.state == \"s-e\":\n",
    "                n_dictionary = {v: k for k, v in dictionary.items()}\n",
    "                if tokens[i] in n_dictionary:\n",
    "                    translator_tokens.append(n_dictionary[tokens[i]])\n",
    "                    flags[i] = 1\n",
    "                else:\n",
    "                    translator_tokens.append(tokens[i])\n",
    "        # Validation.\n",
    "        if sum(flags) == len(tokens):\n",
    "            # Get Translation\n",
    "            translation = \" \".join(translator_tokens)\n",
    "            print(f'The input text: {text}')\n",
    "            print(f'Translation: {translation}')\n",
    "            return translation\n",
    "        else: \n",
    "            print(f'It\\'s not possible get translation.')\n",
    "            indexes = list()\n",
    "            for i in range(len(flags)):\n",
    "                if flags[i] == 0:\n",
    "                    indexes.append(i)\n",
    "            print(\"There are problems with the next sentences:\")\n",
    "            for i in indexes:\n",
    "                print(translator_tokens[i])\n",
    "                response = 'n'\n",
    "                print(\"Do you wish set a new translation? [y/n]\")\n",
    "                response = input()\n",
    "                if response ==  'y':\n",
    "                    suggestion = input()\n",
    "                    if self.state == \"e-s\":\n",
    "                        dictionary[translator_tokens[i]] = suggestion\n",
    "                        self.save_dict(dictionary)\n",
    "                        translator_tokens[i] = suggestion\n",
    "                    elif self.state == \"s-e\":\n",
    "                        dictionary[suggestion] = translator_tokens[i]\n",
    "                        self.save_dict(dictionary)\n",
    "                        translator_tokens[i] = suggestion\n",
    "                    print(\"Update.\")\n",
    "                else:\n",
    "                    print(\"No problem\")\n",
    "            # Get Translation\n",
    "            translation = \" \".join(translator_tokens)\n",
    "            print(f'The input text: {text}')\n",
    "            print(f'Translation: {translation}')\n",
    "            return translation"
   ]
  },
  {
   "cell_type": "code",
   "execution_count": 3,
   "id": "d26a072d",
   "metadata": {},
   "outputs": [],
   "source": [
    "translator = RBMTranslator(\"s-e\")"
   ]
  },
  {
   "cell_type": "code",
   "execution_count": 4,
   "id": "80c7c56f",
   "metadata": {},
   "outputs": [
    {
     "name": "stdout",
     "output_type": "stream",
     "text": [
      "The input text: Hay algunas cosas que quiero intentar en esta vida. No sé si me de tiempo\n",
      "Translation: There are a few things I want to do in this life. I don't know if there is time\n"
     ]
    },
    {
     "data": {
      "text/plain": [
       "\"There are a few things I want to do in this life. I don't know if there is time\""
      ]
     },
     "execution_count": 4,
     "metadata": {},
     "output_type": "execute_result"
    }
   ],
   "source": [
    "text = \"Hay algunas cosas que quiero intentar en esta vida. No sé si me de tiempo\"\n",
    "translator.translate(text)"
   ]
  }
 ],
 "metadata": {
  "kernelspec": {
   "display_name": "Python 3 (ipykernel)",
   "language": "python",
   "name": "python3"
  },
  "language_info": {
   "codemirror_mode": {
    "name": "ipython",
    "version": 3
   },
   "file_extension": ".py",
   "mimetype": "text/x-python",
   "name": "python",
   "nbconvert_exporter": "python",
   "pygments_lexer": "ipython3",
   "version": "3.9.18"
  }
 },
 "nbformat": 4,
 "nbformat_minor": 5
}
