{
 "cells": [
  {
   "cell_type": "markdown",
   "id": "6614fa3d",
   "metadata": {},
   "source": [
    "# Corección de palabras\n",
    "Ojeda Contreras Braulio Melquisedec  \n",
    "Suárez Pérez Juan Pablo"
   ]
  },
  {
   "cell_type": "code",
   "execution_count": 1,
   "id": "d278d0cf",
   "metadata": {},
   "outputs": [],
   "source": [
    "# Importación de Bibliotecas.\n",
    "import numpy as np"
   ]
  },
  {
   "cell_type": "code",
   "execution_count": 2,
   "id": "add37838",
   "metadata": {},
   "outputs": [],
   "source": [
    "# Diccionario de palabras.\n",
    "palabras_futbol = [\n",
    "    \"Gol\", \"Balón\", \"Arquero\", \"Delantero\", \"Defensa\", \"Centrocampista\",\n",
    "    \"Portería\", \"Estadio\", \"Hinchada\", \"Aficionados\", \"Árbitro\", \"Banderín\",\n",
    "    \"Cancha\", \"Camiseta\", \"Botines\", \"Falta\", \"Tarjeta\", \"Técnico\", \"Entrenador\",\n",
    "    \"Espectadores\", \"Equipo\", \"Remate\", \"Penal\", \"Liga\", \"Copa\", \"Tiempo extra\",\n",
    "    \"Césped\", \"Arco\", \"Marcador\", \"Fuera de juego\", \"Cabezazo\", \"Lanzamiento de falta\",\n",
    "    \"Driblar\", \"Rematar\", \"Saque de banda\", \"Saque de esquina\", \"Tiro al gol\",\n",
    "    \"Lesión\", \"Fútbol sala\", \"Balón de fútbol\", \"Silla de estadio\", \"Vestuario\",\n",
    "    \"Gradas\", \"Barrera\", \"Himno nacional\", \"Repetición\", \"Ganador\", \"Derrota\"\n",
    "]"
   ]
  },
  {
   "cell_type": "code",
   "execution_count": 3,
   "id": "8c314e4d",
   "metadata": {},
   "outputs": [],
   "source": [
    "# Volvemos a letras minúsculas.\n",
    "palabras_futbol = [palabra.lower() for palabra in palabras_futbol]"
   ]
  },
  {
   "cell_type": "code",
   "execution_count": 4,
   "id": "b5b9a7c7",
   "metadata": {},
   "outputs": [
    {
     "data": {
      "text/plain": [
       "['aficionados',\n",
       " 'arco',\n",
       " 'arquero',\n",
       " 'balón',\n",
       " 'balón de fútbol',\n",
       " 'banderín',\n",
       " 'barrera',\n",
       " 'botines',\n",
       " 'cabezazo',\n",
       " 'camiseta',\n",
       " 'cancha',\n",
       " 'centrocampista',\n",
       " 'copa',\n",
       " 'césped',\n",
       " 'defensa',\n",
       " 'delantero',\n",
       " 'derrota',\n",
       " 'driblar',\n",
       " 'entrenador',\n",
       " 'equipo',\n",
       " 'espectadores',\n",
       " 'estadio',\n",
       " 'falta',\n",
       " 'fuera de juego',\n",
       " 'fútbol sala',\n",
       " 'ganador',\n",
       " 'gol',\n",
       " 'gradas',\n",
       " 'himno nacional',\n",
       " 'hinchada',\n",
       " 'lanzamiento de falta',\n",
       " 'lesión',\n",
       " 'liga',\n",
       " 'marcador',\n",
       " 'penal',\n",
       " 'portería',\n",
       " 'rematar',\n",
       " 'remate',\n",
       " 'repetición',\n",
       " 'saque de banda',\n",
       " 'saque de esquina',\n",
       " 'silla de estadio',\n",
       " 'tarjeta',\n",
       " 'tiempo extra',\n",
       " 'tiro al gol',\n",
       " 'técnico',\n",
       " 'vestuario',\n",
       " 'árbitro']"
      ]
     },
     "execution_count": 4,
     "metadata": {},
     "output_type": "execute_result"
    }
   ],
   "source": [
    "# Ordenamos por alfabeto. \n",
    "palabras_futbol = sorted(palabras_futbol)\n",
    "palabras_futbol"
   ]
  },
  {
   "cell_type": "code",
   "execution_count": 5,
   "id": "6e89bf41",
   "metadata": {},
   "outputs": [
    {
     "data": {
      "text/plain": [
       "[' ',\n",
       " '/',\n",
       " 'a',\n",
       " 'b',\n",
       " 'c',\n",
       " 'd',\n",
       " 'e',\n",
       " 'f',\n",
       " 'g',\n",
       " 'h',\n",
       " 'i',\n",
       " 'j',\n",
       " 'l',\n",
       " 'm',\n",
       " 'n',\n",
       " 'o',\n",
       " 'p',\n",
       " 'q',\n",
       " 'r',\n",
       " 's',\n",
       " 't',\n",
       " 'u',\n",
       " 'v',\n",
       " 'x',\n",
       " 'z',\n",
       " 'á',\n",
       " 'é',\n",
       " 'í',\n",
       " 'ó',\n",
       " 'ú']"
      ]
     },
     "execution_count": 5,
     "metadata": {},
     "output_type": "execute_result"
    }
   ],
   "source": [
    "# Obtnemos un vector de letras.\n",
    "vector_letras = set()\n",
    "\n",
    "# Recorremos el diccionario y obtenemos las letras.\n",
    "for palabra in palabras_futbol:\n",
    "    for letra in palabra:\n",
    "        vector_letras.add(letra)\n",
    "        \n",
    "vector_letras = list(vector_letras)\n",
    "# Anexamos un caracter especial.\n",
    "vector_letras.append(\"/\")\n",
    "vector_letras = sorted(vector_letras)\n",
    "vector_letras"
   ]
  },
  {
   "cell_type": "code",
   "execution_count": 6,
   "id": "42da5b82",
   "metadata": {},
   "outputs": [],
   "source": [
    "# Recorrer el diccionario.\n",
    "vectores_letras = list()\n",
    "for palabra in palabras_futbol:\n",
    "    vector_letra = list()\n",
    "    for letra in vector_letras:\n",
    "        vector_letra.append(palabra.count(letra))\n",
    "    vectores_letras.append(vector_letra)"
   ]
  },
  {
   "cell_type": "code",
   "execution_count": 7,
   "id": "6c2a140e",
   "metadata": {},
   "outputs": [],
   "source": [
    "# Generamos un diccionario. \n",
    "palabra_vector = dict()\n",
    "for i in range(len(vectores_letras)):\n",
    "    palabra = palabras_futbol[i]\n",
    "    vector = vectores_letras[i]\n",
    "    palabra_vector[palabra] = vector"
   ]
  },
  {
   "cell_type": "code",
   "execution_count": 8,
   "id": "5c63dda3",
   "metadata": {},
   "outputs": [],
   "source": [
    "def recoger_palabra(vector_letras):\n",
    "    # Recogemos palabra.\n",
    "    palabra = input()\n",
    "    # Vectorizamos.\n",
    "    palabra_nueva = [letra for letra in palabra]\n",
    "    # Limpiamos palabra\n",
    "    for i in range(len(palabra)):\n",
    "        if palabra_nueva[i] not in vector_letras:\n",
    "            palabra_nueva[i] = '/'\n",
    "    # Creamos vector de letras\n",
    "    vector_palabra = list()\n",
    "    for letra in vector_letras:\n",
    "        vector_palabra.append(palabra_nueva.count(letra))\n",
    "    return palabra, palabra_nueva, vector_palabra"
   ]
  },
  {
   "cell_type": "code",
   "execution_count": 9,
   "id": "bc2f7b3c",
   "metadata": {},
   "outputs": [],
   "source": [
    "def s_cosine(palabra, vector, vectores, aux_path = ''):\n",
    "    \"\"\"\n",
    "        Here you can get the similaritie of each word.\n",
    "        word: the word you want to get similaritie.\n",
    "        vectors: the vector space of your vocabulary.\n",
    "        aux_path: the name you want to add to the similarities.\n",
    "    \"\"\"\n",
    "    similarities = dict()\n",
    "    v = vector\n",
    "    for w in vectores.keys():\n",
    "        v2 = vectores[w]\n",
    "        if np.linalg.norm(v) == 0 or np.linalg.norm(v2) == 0:\n",
    "            similarities[w] = 0\n",
    "        else:\n",
    "            similarities[w] = np.dot(v, v2) / (np.linalg.norm(v) * np.linalg.norm(v2))\n",
    "    similarities = (sorted(similarities.items(), key = lambda item: item[1], reverse = True))\n",
    "    with open('./cosine/similar_to_' + palabra + aux_path + '.txt', 'w', encoding = 'utf-8') as f:\n",
    "        for item in similarities:\n",
    "            f.write(str(item) + '\\n')\n",
    "    primer_elemento = similarities[0]\n",
    "    return primer_elemento"
   ]
  },
  {
   "cell_type": "code",
   "execution_count": 15,
   "id": "e3c263e8",
   "metadata": {},
   "outputs": [
    {
     "name": "stdout",
     "output_type": "stream",
     "text": [
      "pie\n",
      "('repetición', 0.7715167498104596)\n"
     ]
    }
   ],
   "source": [
    "palabra, palabra_nueva, vector_palabra = recoger_palabra(vector_letras)\n",
    "palabra_corregida = s_cosine(palabra, vector_palabra, palabra_vector)\n",
    "print(palabra_corregida)"
   ]
  },
  {
   "cell_type": "code",
   "execution_count": null,
   "id": "d9161230",
   "metadata": {},
   "outputs": [],
   "source": [
    "\n",
    "\n",
    "\n",
    "\n",
    " "
   ]
  }
 ],
 "metadata": {
  "kernelspec": {
   "display_name": "Python 3 (ipykernel)",
   "language": "python",
   "name": "python3"
  },
  "language_info": {
   "codemirror_mode": {
    "name": "ipython",
    "version": 3
   },
   "file_extension": ".py",
   "mimetype": "text/x-python",
   "name": "python",
   "nbconvert_exporter": "python",
   "pygments_lexer": "ipython3",
   "version": "3.9.12"
  }
 },
 "nbformat": 4,
 "nbformat_minor": 5
}
